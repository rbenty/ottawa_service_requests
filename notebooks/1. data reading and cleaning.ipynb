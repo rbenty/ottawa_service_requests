{
 "cells": [
  {
   "cell_type": "markdown",
   "id": "d37bbf97-9178-4a38-9adb-1c8ada008350",
   "metadata": {},
   "source": [
    "# Notebook 1: Data Cleaning\n",
    "\n",
    "... Because data is never clean!\n",
    "\n",
    "This notebook:\n",
    " - reads raw data sources\n",
    " - cleans and conforms the mess\n",
    " - unions all of the inputs (one per year) and pickles the dataframe!"
   ]
  },
  {
   "cell_type": "code",
   "execution_count": 1,
   "id": "0e9de7fd",
   "metadata": {},
   "outputs": [],
   "source": [
    "import pandas as pd\n",
    "from glob import glob\n",
    "import re\n",
    "import os"
   ]
  },
  {
   "cell_type": "code",
   "execution_count": 2,
   "id": "34733510-5cde-44e6-9178-2ec39513397c",
   "metadata": {},
   "outputs": [
    {
     "name": "stdout",
     "output_type": "stream",
     "text": [
      "reading year 2019\n",
      "reading year 2013\n",
      "reading year 2016\n",
      "reading the ward population csv\n",
      "reading the wards csv\n",
      "reading year 2017\n",
      "reading year 2021\n",
      "reading year 2018\n",
      "reading year 2015\n",
      "reading year 2014\n",
      "reading year 2020\n"
     ]
    }
   ],
   "source": [
    "raw_data_files = glob('../data/raw/*')\n",
    "df_dict = {}\n",
    "for file in raw_data_files:\n",
    "    try:\n",
    "        yr = re.search(r'(20\\d{2})', file).group(0)\n",
    "        print('reading year {}'.format(yr))\n",
    "        df = pd.read_excel(file)\n",
    "        df_dict[yr] = df\n",
    "    except:\n",
    "        if 'Wards.csv' in file:\n",
    "            print('reading the wards csv')\n",
    "            wards = pd.read_csv(file)\n",
    "        elif 'ward_population' in file:\n",
    "            print('reading the ward population csv')\n",
    "            ward_population = pd.read_csv(file)\n",
    "\n"
   ]
  },
  {
   "cell_type": "code",
   "execution_count": 3,
   "id": "eef4069e-e6a2-4ce8-a455-4ed78c42105c",
   "metadata": {},
   "outputs": [
    {
     "name": "stderr",
     "output_type": "stream",
     "text": [
      "/var/folders/dg/pbzylmz55yn_lm8754cv4dfc0000gp/T/ipykernel_3237/3941286951.py:1: FutureWarning: The default value of regex will change from True to False in a future version.\n",
      "  ward_population['ward'] = ward_population.ward.str.upper().str.replace('\\d{1,2}. ', '')\n"
     ]
    }
   ],
   "source": [
    "ward_population['ward'] = ward_population.ward.str.upper().str.replace('\\d{1,2}. ', '')\n",
    "wards = wards.merge(ward_population, left_on='WARD_EN', right_on='ward', how='outer')"
   ]
  },
  {
   "cell_type": "code",
   "execution_count": 4,
   "id": "71c8a1b5",
   "metadata": {},
   "outputs": [],
   "source": [
    "# the field names and values from 2013, 2014 and 2015 differ slightly from other years\n",
    "# Here we will conform those years with 2016+\n",
    "for yr in ['2013','2014','2015']:\n",
    "    # pull timestamp from string\n",
    "    df_dict[yr]['ts'] = pd.to_datetime(df_dict[yr].creation_date)\n",
    "    # grab ward number from ward field (numeric value instead of name)\n",
    "    df_dict[yr]['ward_number'] = df_dict[yr].ward.str.extract('(\\d+)').fillna(0).astype(int)\n",
    "    # merge with ward dataset to get ward name from the number\n",
    "    df_dict[yr] = df_dict[yr].merge(wards[['WARD_NUM','WARD_EN']].rename(columns={'WARD_EN':'WARD'}), left_on='ward_number', right_on='WARD_NUM', how='left')\n",
    "    df_dict[yr].rename(columns={'priority_name': 'CHANNEL', 'call_type': 'REASON', 'call_description':'TYPE', 'ts':'DATE_RAISED'}, inplace=True)\n",
    "    df_dict[yr]['SUBJECT'] = df_dict[yr].REASON\n",
    "    df_dict[yr] = df_dict[yr][df_dict['2020'].columns]"
   ]
  },
  {
   "cell_type": "code",
   "execution_count": 5,
   "id": "e105c277-220a-4dca-89ce-7fdfbd7fe398",
   "metadata": {},
   "outputs": [],
   "source": [
    "# Appears to be a UTF encoding issue with ORLÉANS, so here's a manual fix\n",
    "df_dict['2019']['WARD'] = df_dict['2019'].WARD.str.replace('ORL&#201;ANS', 'ORLÉANS')\n",
    "df_dict['2020']['WARD'] = df_dict['2020'].WARD.str.replace('ORL&#201;ANS', 'ORLÉANS')\n",
    "df_dict['2021']['WARD'] = df_dict['2021'].WARD.str.replace('ORL&#201;ANS', 'ORLÉANS')"
   ]
  },
  {
   "cell_type": "code",
   "execution_count": 6,
   "id": "84f316a7-9824-49ee-aebd-4351500e2c78",
   "metadata": {},
   "outputs": [],
   "source": [
    "# There seems to be an issue in some of the ward namings for later years as well.  Here's a quick fix for that\n",
    "for yr in ['2016','2017','2018','2019','2020','2021']:\n",
    "    df_dict[yr]['WARD_NUM'] = df_dict[yr].WARD.str.extract('(\\d+)').fillna(0).astype(int)\n",
    "    df_dict[yr] = df_dict[yr].merge(wards[['WARD_NUM','WARD_EN']], on='WARD_NUM', how='left')\n",
    "    #coalesce WARD_EN with WARD\n",
    "    df_dict[yr]['WARD'] = df_dict[yr].WARD_EN.combine_first(df_dict[yr].WARD)\n",
    "    df_dict[yr] = df_dict[yr][['SUBJECT', 'REASON', 'TYPE', 'DATE_RAISED', 'CHANNEL', 'WARD']]"
   ]
  },
  {
   "cell_type": "code",
   "execution_count": 7,
   "id": "63c4ce50-e509-4875-b8dd-df0c5a392bb6",
   "metadata": {},
   "outputs": [],
   "source": [
    "df_all = pd.concat(list(df_dict.values()))"
   ]
  },
  {
   "cell_type": "code",
   "execution_count": 8,
   "id": "c128fa0a-22a8-44c8-ad23-927a169f6e1f",
   "metadata": {},
   "outputs": [],
   "source": [
    "for yr, df in df_dict.items():\n",
    "    df.to_pickle(f'../data/cleaned/requests_{yr}.pkl')"
   ]
  },
  {
   "cell_type": "code",
   "execution_count": 9,
   "id": "3920f6e5-d1de-4820-ba5f-6c9919be1b51",
   "metadata": {},
   "outputs": [],
   "source": [
    "df_all.to_pickle('../data/cleaned/requests_all.pkl')"
   ]
  },
  {
   "cell_type": "code",
   "execution_count": 10,
   "id": "8a6b9ee6-b5c8-4ede-9213-cf8f5f96e34a",
   "metadata": {},
   "outputs": [],
   "source": [
    "wards[['WARD_EN','population']].rename(columns={'WARD_EN':'WARD'}).to_pickle('../data/cleaned/wards.pkl')"
   ]
  }
 ],
 "metadata": {
  "kernelspec": {
   "display_name": "Python 3 (ipykernel)",
   "language": "python",
   "name": "python3"
  },
  "language_info": {
   "codemirror_mode": {
    "name": "ipython",
    "version": 3
   },
   "file_extension": ".py",
   "mimetype": "text/x-python",
   "name": "python",
   "nbconvert_exporter": "python",
   "pygments_lexer": "ipython3",
   "version": "3.8.12"
  }
 },
 "nbformat": 4,
 "nbformat_minor": 5
}
